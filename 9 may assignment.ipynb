{
 "cells": [
  {
   "cell_type": "code",
   "execution_count": 1,
   "id": "a4894e95-d242-43db-8c39-258556125c9a",
   "metadata": {},
   "outputs": [],
   "source": [
    "\n",
    "''''Q1. Create one variable containing following type of data:\n",
    "(i) string\n",
    "(ii) list\n",
    "(iii) float\n",
    "(iv) tuple'''\n",
    "\n",
    "my_string = \"Hello, world!\"\n",
    "\n",
    "# (ii) list\n",
    "my_list = [1, 2, 3, 4, 5]\n",
    "\n",
    "# (iii) float\n",
    "my_float = 3.14\n",
    "\n",
    "# (iv) tuple\n",
    "my_tuple = (1, 2, 3, 4, 5)"
   ]
  },
  {
   "cell_type": "markdown",
   "id": "c51b97a8-8637-4d42-8fe9-82eabb153eb6",
   "metadata": {},
   "source": [
    "'''Q2. Given are some following variables containing data:\n",
    "(i) var1 = ‘ ‘\n",
    "(ii) var2 = ‘[ DS , ML , Python]’\n",
    "(iii) var3 = [ ‘DS’ , ’ML’ , ‘Python’ ]\n",
    "(iv) var4 = 1.\n",
    "\n",
    "\n",
    "(i) var1 = ‘ \n",
    "\n",
    "This variable var1 contains a string with a single space character.\n",
    "(ii) var2 = ‘[ DS , ML , Python]’\n",
    "\n",
    "This variable var2 contains a string representation of what seems to be a list, but it's currently treated as a string, not a list. Note that the string is enclosed within single quotes (‘) and it contains spaces and commas.\n",
    "(iii) var3 = [ ‘DS’ , ’ML’ , ‘Python’ ]\n",
    "\n",
    "This variable var3 appears to be a list containing string elements: 'DS', 'ML', and 'Python'. However, the quotes around the strings should be straight quotes (' or \") rather than curly quotes (‘ and ’).\n",
    "(iv) var4 = 1.\n",
    "\n",
    "This variable var4 contains a floating-point number, specifically the value 1.0."
   ]
  },
  {
   "cell_type": "code",
   "execution_count": 2,
   "id": "fe87a53f-b010-4a41-afb0-b3b25bf445e6",
   "metadata": {},
   "outputs": [
    {
     "name": "stdout",
     "output_type": "stream",
     "text": [
      "5.0\n",
      "1\n",
      "3\n",
      "8\n"
     ]
    }
   ],
   "source": [
    "'''Q3. Explain the use of the following operators using an example:\n",
    "(i) /\n",
    "(ii) %\n",
    "(iii) //\n",
    "(iv) **'''\n",
    "#(i) /: This is the division operator in Python, used to divide one number by another. It returns a floating-point number as the result.\n",
    "\n",
    "\n",
    "result = 10 / 2\n",
    "print(result)  # Output: 5.0\n",
    "#(ii) %: This is the modulus operator, also known as the remainder operator. It returns the remainder of the division operation.\n",
    "\n",
    "\n",
    "remainder = 10 % 3\n",
    "print(remainder)  # Output: 1 (10 divided by 3 equals 3 with a remainder of 1)\n",
    "#(iii) //: This is the floor division operator. It performs division and returns the whole number part of the quotient.\n",
    "\n",
    "result = 10 // 3\n",
    "print(result)  # Output: 3 (10 divided by 3 equals 3.3333..., the floor division returns only the whole number part)\n",
    "#(iv) **: This is the exponentiation operator, used to raise a number to the power of another number.\n",
    "\n",
    "\n",
    "result = 2 ** 3\n",
    "print(result)  # Output: 8 (2 raised to the power of 3 equa"
   ]
  },
  {
   "cell_type": "code",
   "execution_count": 3,
   "id": "c79d5e7c-abf4-4bc5-951d-7521e9d16efe",
   "metadata": {},
   "outputs": [
    {
     "name": "stdout",
     "output_type": "stream",
     "text": [
      "Element: 10 | Data type: <class 'int'>\n",
      "Element: 3.14 | Data type: <class 'float'>\n",
      "Element: Hello | Data type: <class 'str'>\n",
      "Element: True | Data type: <class 'bool'>\n",
      "Element: [1, 2, 3] | Data type: <class 'list'>\n",
      "Element: {'a': 1, 'b': 2} | Data type: <class 'dict'>\n",
      "Element: (4, 5) | Data type: <class 'tuple'>\n",
      "Element: None | Data type: <class 'NoneType'>\n",
      "Element: False | Data type: <class 'bool'>\n",
      "Element: range(0, 5) | Data type: <class 'range'>\n"
     ]
    }
   ],
   "source": [
    "'''4.Create a list of length 10 of your choice containing multiple types of data. Using for loop print the\n",
    "element and its data type.'''\n",
    "# Creating a list with elements of different data types\n",
    "my_list = [10, 3.14, \"Hello\", True, [1, 2, 3], {'a': 1, 'b': 2}, (4, 5), None, False, range(5)]\n",
    "\n",
    "# Using a for loop to iterate through the list and print each element along with its data type\n",
    "for element in my_list:\n",
    "    print(\"Element:\", element, \"| Data type:\", type(element))\n",
    "    "
   ]
  },
  {
   "cell_type": "code",
   "execution_count": 4,
   "id": "d7fa6af8-c9ad-439b-8b53-17a799d03a9b",
   "metadata": {},
   "outputs": [
    {
     "name": "stdin",
     "output_type": "stream",
     "text": [
      "Enter the number A:  20\n",
      "Enter the number B:  2\n"
     ]
    },
    {
     "name": "stdout",
     "output_type": "stream",
     "text": [
      "20 is purely divisible by 2 and it can be divided 2 times.\n"
     ]
    }
   ],
   "source": [
    "'''Q5. Using a while loop, verify if the number A is purely divisible by number B and if so then how many\n",
    "times it can be divisible.'''\n",
    "# Function to verify if A is purely divisible by B and count how many times it can be divided\n",
    "def count_divisible(A, B):\n",
    "    count = 0\n",
    "    while A % B == 0:\n",
    "        count += 1\n",
    "        A //= B\n",
    "    return count\n",
    "\n",
    "# Input values for A and B\n",
    "A = int(input(\"Enter the number A: \"))\n",
    "B = int(input(\"Enter the number B: \"))\n",
    "\n",
    "# Verify if A is purely divisible by B and count how many times it can be divided\n",
    "divisible_count = count_divisible(A, B)\n",
    "\n",
    "# Output the result\n",
    "if divisible_count > 0:\n",
    "    print(f\"{A} is purely divisible by {B} and it can be divided {divisible_count} times.\")\n",
    "else:\n",
    "    print(f\"{A} is not purely divisible by {B}.\")"
   ]
  },
  {
   "cell_type": "code",
   "execution_count": 5,
   "id": "1187e58e-55d3-42db-93ed-e3f8f6cdfd24",
   "metadata": {},
   "outputs": [
    {
     "name": "stdout",
     "output_type": "stream",
     "text": [
      "1 is not divisible by 3.\n",
      "2 is not divisible by 3.\n",
      "3 is divisible by 3.\n",
      "4 is not divisible by 3.\n",
      "5 is not divisible by 3.\n",
      "6 is divisible by 3.\n",
      "7 is not divisible by 3.\n",
      "8 is not divisible by 3.\n",
      "9 is divisible by 3.\n",
      "10 is not divisible by 3.\n",
      "11 is not divisible by 3.\n",
      "12 is divisible by 3.\n",
      "13 is not divisible by 3.\n",
      "14 is not divisible by 3.\n",
      "15 is divisible by 3.\n",
      "16 is not divisible by 3.\n",
      "17 is not divisible by 3.\n",
      "18 is divisible by 3.\n",
      "19 is not divisible by 3.\n",
      "20 is not divisible by 3.\n",
      "21 is divisible by 3.\n",
      "22 is not divisible by 3.\n",
      "23 is not divisible by 3.\n",
      "24 is divisible by 3.\n",
      "25 is not divisible by 3.\n"
     ]
    }
   ],
   "source": [
    "'''Q6. Create a list containing 25 int type data. Using for loop and if-else condition print if the element is\n",
    "divisible by 3 or not.'''\n",
    "# Create a list containing 25 integer type data\n",
    "my_list = [i for i in range(1, 26)]\n",
    "\n",
    "# Using a for loop and if-else condition to check if each element is divisible by 3 or not\n",
    "for num in my_list:\n",
    "    if num % 3 == 0:\n",
    "        print(f\"{num} is divisible by 3.\")\n",
    "    else:\n",
    "        print(f\"{num} is not divisible by 3.\")\n"
   ]
  },
  {
   "cell_type": "code",
   "execution_count": 7,
   "id": "5e016353-32fb-4dd2-9d09-0d0ad80ad820",
   "metadata": {},
   "outputs": [
    {
     "name": "stdout",
     "output_type": "stream",
     "text": [
      "Original list: [1, 2, 3]\n",
      "Modified list: [10, 2, 3]\n",
      "Original tuple: (1, 2, 3)\n",
      "Modified tuple: (10, 2, 3)\n"
     ]
    }
   ],
   "source": [
    "'''Q7. What do you understand about mutable and immutable data types? Give examples for both showing\n",
    "this property.'''\n",
    "# Example of mutable data type: list\n",
    "'''Mutable data types: Objects whose values can be changed after creation are called mutable. This means you can modify the object's state, and its identity remains the same. Examples of mutable data types in Python include lists, dictionaries, and sets.\n",
    "'''\n",
    "my_list = [1, 2, 3]\n",
    "print(\"Original list:\", my_list)\n",
    "\n",
    "my_list[0] = 10  # Modifying the first element\n",
    "print(\"Modified list:\", my_list)  # Output: [10, 2, 3]\n",
    "'''Immutable data types: Objects whose values cannot be changed after creation are called immutable. This means once the object is created, you cannot modify its state. Examples of immutable data types in Python include integers, floats, strings, tuples, and frozensets.\n",
    "'''\n",
    "# Example of immutable data type: tuple\n",
    "my_tuple = (1, 2, 3)\n",
    "print(\"Original tuple:\", my_tuple)\n",
    "\n",
    "# Attempting to modify the tuple will result in an error\n",
    "# my_tuple[0] = 10  # This will raise a TypeError\n",
    "\n",
    "# To modify a tuple, you would have to create a new one\n",
    "new_tuple = (10,) + my_tuple[1:]\n",
    "print(\"Modified tuple:\", new_tuple)  # Output: (10, 2, 3)"
   ]
  },
  {
   "cell_type": "code",
   "execution_count": null,
   "id": "31cea004-9949-42c3-9569-6085b708b1dd",
   "metadata": {},
   "outputs": [],
   "source": []
  }
 ],
 "metadata": {
  "kernelspec": {
   "display_name": "Python 3 (ipykernel)",
   "language": "python",
   "name": "python3"
  },
  "language_info": {
   "codemirror_mode": {
    "name": "ipython",
    "version": 3
   },
   "file_extension": ".py",
   "mimetype": "text/x-python",
   "name": "python",
   "nbconvert_exporter": "python",
   "pygments_lexer": "ipython3",
   "version": "3.10.8"
  }
 },
 "nbformat": 4,
 "nbformat_minor": 5
}
